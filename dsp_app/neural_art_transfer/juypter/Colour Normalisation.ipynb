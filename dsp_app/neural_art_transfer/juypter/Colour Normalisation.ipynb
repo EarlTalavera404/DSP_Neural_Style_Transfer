{
 "cells": [
  {
   "cell_type": "markdown",
   "id": "7fa60cba",
   "metadata": {},
   "source": [
    "Read in the image"
   ]
  },
  {
   "cell_type": "code",
   "execution_count": 11,
   "id": "5832f262",
   "metadata": {},
   "outputs": [],
   "source": [
    "import cv2 as cv\n",
    "import numpy as np"
   ]
  },
  {
   "cell_type": "code",
   "execution_count": 12,
   "id": "562de3d7",
   "metadata": {},
   "outputs": [],
   "source": [
    "path = r\"C:\\Users\\talav\\Desktop\\DSP Project\\DSP_Neural_Style_Transfer\\dsp_app\\neural_art_transfer\\juypter\\4265832-background-of-white-flowers-sky-field-feminine-photocase-stock-photo-large.jpeg\"\n",
    "img = cv.imread(path)"
   ]
  },
  {
   "cell_type": "code",
   "execution_count": 14,
   "id": "8d56b329",
   "metadata": {},
   "outputs": [],
   "source": [
    "cv.imshow('image',img)\n",
    "cv.waitKey(0)\n",
    "cv.destroyAllWindows()"
   ]
  },
  {
   "cell_type": "markdown",
   "id": "ddb70221",
   "metadata": {},
   "source": [
    "Create a numpy array of 800 x 800 then normalize the image for better contrast and clarity"
   ]
  },
  {
   "cell_type": "code",
   "execution_count": 15,
   "id": "4719e4f7",
   "metadata": {},
   "outputs": [],
   "source": [
    "norm_img = np.zeros((800,800))\n",
    "final_img = cv.normalize(img,  norm_img, 0, 255, cv.NORM_MINMAX)"
   ]
  },
  {
   "cell_type": "code",
   "execution_count": null,
   "id": "f47d2611",
   "metadata": {},
   "outputs": [],
   "source": [
    "cv.imshow('Normalized Image', final_img)\n",
    "cv.waitKey(0)\n",
    "cv.destroyAllWindows()\n"
   ]
  },
  {
   "cell_type": "code",
   "execution_count": null,
   "id": "554f5026",
   "metadata": {},
   "outputs": [],
   "source": [
    "cv.imwrite('city_normalized.jpg', final_img)"
   ]
  },
  {
   "cell_type": "code",
   "execution_count": null,
   "id": "388c2024",
   "metadata": {},
   "outputs": [],
   "source": []
  }
 ],
 "metadata": {
  "kernelspec": {
   "display_name": "Python 3 (ipykernel)",
   "language": "python",
   "name": "python3"
  },
  "language_info": {
   "codemirror_mode": {
    "name": "ipython",
    "version": 3
   },
   "file_extension": ".py",
   "mimetype": "text/x-python",
   "name": "python",
   "nbconvert_exporter": "python",
   "pygments_lexer": "ipython3",
   "version": "3.10.7"
  }
 },
 "nbformat": 4,
 "nbformat_minor": 5
}
