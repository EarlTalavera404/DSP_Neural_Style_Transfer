{
 "cells": [
  {
   "cell_type": "markdown",
   "id": "9b9cf398",
   "metadata": {},
   "source": [
    "Import dependencies"
   ]
  },
  {
   "cell_type": "code",
   "execution_count": 1,
   "id": "f109080c",
   "metadata": {},
   "outputs": [],
   "source": [
    "import cv2"
   ]
  },
  {
   "cell_type": "markdown",
   "id": "1d4d40a7",
   "metadata": {},
   "source": [
    "Retrieve the image through the image path"
   ]
  },
  {
   "cell_type": "code",
   "execution_count": 2,
   "id": "d03f0a95",
   "metadata": {},
   "outputs": [],
   "source": [
    "path = \"low_contrast_test_image.jpg\"\n",
    "bgr_img = cv2.imread(path)"
   ]
  },
  {
   "cell_type": "markdown",
   "id": "ce1b5cc3",
   "metadata": {},
   "source": [
    "Display the image retrieved"
   ]
  },
  {
   "cell_type": "code",
   "execution_count": 3,
   "id": "c5d409a7",
   "metadata": {},
   "outputs": [
    {
     "ename": "error",
     "evalue": "OpenCV(4.7.0) D:\\a\\opencv-python\\opencv-python\\opencv\\modules\\highgui\\src\\window.cpp:971: error: (-215:Assertion failed) size.width>0 && size.height>0 in function 'cv::imshow'\n",
     "output_type": "error",
     "traceback": [
      "\u001b[1;31m---------------------------------------------------------------------------\u001b[0m",
      "\u001b[1;31merror\u001b[0m                                     Traceback (most recent call last)",
      "Cell \u001b[1;32mIn [3], line 1\u001b[0m\n\u001b[1;32m----> 1\u001b[0m \u001b[43mcv2\u001b[49m\u001b[38;5;241;43m.\u001b[39;49m\u001b[43mimshow\u001b[49m\u001b[43m(\u001b[49m\u001b[38;5;124;43m'\u001b[39;49m\u001b[38;5;124;43mimage\u001b[39;49m\u001b[38;5;124;43m'\u001b[39;49m\u001b[43m,\u001b[49m\u001b[43mbgr_img\u001b[49m\u001b[43m)\u001b[49m\n\u001b[0;32m      2\u001b[0m cv2\u001b[38;5;241m.\u001b[39mwaitKey(\u001b[38;5;241m0\u001b[39m)\n\u001b[0;32m      3\u001b[0m cv2\u001b[38;5;241m.\u001b[39mdestroyAllWindows()\n",
      "\u001b[1;31merror\u001b[0m: OpenCV(4.7.0) D:\\a\\opencv-python\\opencv-python\\opencv\\modules\\highgui\\src\\window.cpp:971: error: (-215:Assertion failed) size.width>0 && size.height>0 in function 'cv::imshow'\n"
     ]
    }
   ],
   "source": [
    "cv2.imshow('image',bgr_img)\n",
    "cv2.waitKey(0)\n",
    "cv2.destroyAllWindows()"
   ]
  },
  {
   "cell_type": "markdown",
   "id": "3d3303dd",
   "metadata": {},
   "source": [
    "Convert the image from RED,GREEN,BLUE to Hue Saturation Value"
   ]
  },
  {
   "cell_type": "code",
   "execution_count": 5,
   "id": "53c464a8",
   "metadata": {},
   "outputs": [],
   "source": [
    "# convert image from RGB to HSV\n",
    "hsv_img = cv2.cvtColor(bgr_img, cv2.COLOR_RGB2HSV)"
   ]
  },
  {
   "cell_type": "markdown",
   "id": "9c2c7f15",
   "metadata": {},
   "source": [
    "Display the converted HSV Image"
   ]
  },
  {
   "cell_type": "code",
   "execution_count": 6,
   "id": "7f86c500",
   "metadata": {},
   "outputs": [],
   "source": [
    "cv2.imshow('HSV image', hsv_img)\n",
    "cv2.waitKey(0)\n",
    "cv2.destroyAllWindows()"
   ]
  },
  {
   "cell_type": "markdown",
   "id": "8fdf33f9",
   "metadata": {},
   "source": [
    "Perform Histogram equalisation on the Value"
   ]
  },
  {
   "cell_type": "code",
   "execution_count": 7,
   "id": "101a2b8f",
   "metadata": {},
   "outputs": [],
   "source": [
    "hsv_img[:, :, 2] = cv2.equalizeHist(hsv_img[:, :, 2])"
   ]
  },
  {
   "cell_type": "markdown",
   "id": "d0be8524",
   "metadata": {},
   "source": [
    "Display HSV Image"
   ]
  },
  {
   "cell_type": "code",
   "execution_count": 8,
   "id": "0838c401",
   "metadata": {},
   "outputs": [],
   "source": [
    "cv2.imshow('HSV image', hsv_img)\n",
    "cv2.waitKey(0)\n",
    "cv2.destroyAllWindows()"
   ]
  },
  {
   "cell_type": "markdown",
   "id": "302a0fbd",
   "metadata": {},
   "source": [
    "Convert to RGB"
   ]
  },
  {
   "cell_type": "code",
   "execution_count": 9,
   "id": "25f7f9a3",
   "metadata": {},
   "outputs": [],
   "source": [
    "image = cv2.cvtColor(hsv_img, cv2.COLOR_HSV2RGB)"
   ]
  },
  {
   "cell_type": "markdown",
   "id": "07fda058",
   "metadata": {},
   "source": [
    "Display the equalized Image"
   ]
  },
  {
   "cell_type": "code",
   "execution_count": 10,
   "id": "a323e8c7",
   "metadata": {},
   "outputs": [],
   "source": [
    "cv2.imshow('Equalised Image!', image)\n",
    "cv2.waitKey(0)\n",
    "cv2.destroyAllWindows()"
   ]
  }
 ],
 "metadata": {
  "kernelspec": {
   "display_name": "Python 3 (ipykernel)",
   "language": "python",
   "name": "python3"
  },
  "language_info": {
   "codemirror_mode": {
    "name": "ipython",
    "version": 3
   },
   "file_extension": ".py",
   "mimetype": "text/x-python",
   "name": "python",
   "nbconvert_exporter": "python",
   "pygments_lexer": "ipython3",
   "version": "3.10.7"
  }
 },
 "nbformat": 4,
 "nbformat_minor": 5
}
