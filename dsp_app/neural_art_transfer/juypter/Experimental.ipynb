{
 "cells": [
  {
   "cell_type": "code",
   "execution_count": 18,
   "id": "a158d13f",
   "metadata": {},
   "outputs": [],
   "source": [
    "import cv2"
   ]
  },
  {
   "cell_type": "code",
   "execution_count": 19,
   "id": "719c9640",
   "metadata": {},
   "outputs": [],
   "source": [
    "path = \"low_contrast_test_image.jpg\"\n",
    "bgr_img = cv2.imread(path)"
   ]
  },
  {
   "cell_type": "code",
   "execution_count": 20,
   "id": "b48d3a3f",
   "metadata": {},
   "outputs": [],
   "source": [
    "cv2.imshow('image',bgr_img)\n",
    "cv2.waitKey(0)\n",
    "cv2.destroyAllWindows()"
   ]
  },
  {
   "cell_type": "code",
   "execution_count": 21,
   "id": "38fa6325",
   "metadata": {},
   "outputs": [],
   "source": [
    "hsv_img = cv2.cvtColor(bgr_img, cv2.COLOR_RGB2HSV)"
   ]
  },
  {
   "cell_type": "code",
   "execution_count": 22,
   "id": "5fe2fe03",
   "metadata": {},
   "outputs": [],
   "source": [
    "cv2.imshow('HSV image', hsv_img)\n",
    "cv2.waitKey(0)\n",
    "cv2.destroyAllWindows()"
   ]
  },
  {
   "cell_type": "code",
   "execution_count": 23,
   "id": "847a2e55",
   "metadata": {},
   "outputs": [],
   "source": [
    "hsv_img[:, :, 2] = cv2.equalizeHist(hsv_img[:, :, 2])"
   ]
  },
  {
   "cell_type": "code",
   "execution_count": 24,
   "id": "6d3cbb1b",
   "metadata": {},
   "outputs": [],
   "source": [
    "cv2.imshow('HSV image', hsv_img)\n",
    "cv2.waitKey(0)\n",
    "cv2.destroyAllWindows()"
   ]
  },
  {
   "cell_type": "code",
   "execution_count": 25,
   "id": "70ae3cf9",
   "metadata": {},
   "outputs": [],
   "source": [
    "image = cv2.cvtColor(hsv_img, cv2.COLOR_HSV2RGB)"
   ]
  },
  {
   "cell_type": "code",
   "execution_count": 26,
   "id": "031ad2de",
   "metadata": {},
   "outputs": [],
   "source": [
    "cv2.imshow('Dead image', image)\n",
    "cv2.waitKey(0)\n",
    "cv2.destroyAllWindows()"
   ]
  },
  {
   "cell_type": "code",
   "execution_count": null,
   "id": "a47c648b",
   "metadata": {},
   "outputs": [],
   "source": []
  }
 ],
 "metadata": {
  "kernelspec": {
   "display_name": "Python 3 (ipykernel)",
   "language": "python",
   "name": "python3"
  },
  "language_info": {
   "codemirror_mode": {
    "name": "ipython",
    "version": 3
   },
   "file_extension": ".py",
   "mimetype": "text/x-python",
   "name": "python",
   "nbconvert_exporter": "python",
   "pygments_lexer": "ipython3",
   "version": "3.10.7"
  }
 },
 "nbformat": 4,
 "nbformat_minor": 5
}
