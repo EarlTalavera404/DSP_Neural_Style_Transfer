{
 "cells": [
  {
   "cell_type": "markdown",
   "id": "9b9cf398",
   "metadata": {},
   "source": [
    "Import dependencies"
   ]
  },
  {
   "cell_type": "code",
   "execution_count": 2,
   "id": "f109080c",
   "metadata": {},
   "outputs": [],
   "source": [
    "import cv2"
   ]
  },
  {
   "cell_type": "markdown",
   "id": "1d4d40a7",
   "metadata": {},
   "source": [
    "Retrieve the image through the image path"
   ]
  },
  {
   "cell_type": "code",
   "execution_count": 3,
   "id": "d03f0a95",
   "metadata": {},
   "outputs": [],
   "source": [
    "path = \"low_contrast_test_image.jpg\"\n",
    "bgr_img = cv2.imread(path)"
   ]
  },
  {
   "cell_type": "markdown",
   "id": "ce1b5cc3",
   "metadata": {},
   "source": [
    "Display the image retrieved"
   ]
  },
  {
   "cell_type": "code",
   "execution_count": 4,
   "id": "c5d409a7",
   "metadata": {},
   "outputs": [],
   "source": [
    "cv2.imshow('image',bgr_img)\n",
    "cv2.waitKey(0)\n",
    "cv2.destroyAllWindows()"
   ]
  },
  {
   "cell_type": "markdown",
   "id": "3d3303dd",
   "metadata": {},
   "source": [
    "Convert the image from RED,GREEN,BLUE to Hue Saturation Value"
   ]
  },
  {
   "cell_type": "code",
   "execution_count": 5,
   "id": "53c464a8",
   "metadata": {},
   "outputs": [],
   "source": [
    "# convert image from RGB to HSV\n",
    "hsv_img = cv2.cvtColor(bgr_img, cv2.COLOR_RGB2HSV)"
   ]
  },
  {
   "cell_type": "markdown",
   "id": "9c2c7f15",
   "metadata": {},
   "source": [
    "Display the converted HSV Image"
   ]
  },
  {
   "cell_type": "code",
   "execution_count": 6,
   "id": "7f86c500",
   "metadata": {},
   "outputs": [],
   "source": [
    "cv2.imshow('HSV image', hsv_img)\n",
    "cv2.waitKey(0)\n",
    "cv2.destroyAllWindows()"
   ]
  },
  {
   "cell_type": "markdown",
   "id": "8fdf33f9",
   "metadata": {},
   "source": [
    "Perform Histogram equalisation on the Value"
   ]
  },
  {
   "cell_type": "code",
   "execution_count": 7,
   "id": "101a2b8f",
   "metadata": {},
   "outputs": [],
   "source": [
    "hsv_img[:, :, 2] = cv2.equalizeHist(hsv_img[:, :, 2])"
   ]
  },
  {
   "cell_type": "markdown",
   "id": "d0be8524",
   "metadata": {},
   "source": [
    "Display HSV Image"
   ]
  },
  {
   "cell_type": "code",
   "execution_count": 8,
   "id": "0838c401",
   "metadata": {},
   "outputs": [],
   "source": [
    "cv2.imshow('HSV image', hsv_img)\n",
    "cv2.waitKey(0)\n",
    "cv2.destroyAllWindows()"
   ]
  },
  {
   "cell_type": "markdown",
   "id": "302a0fbd",
   "metadata": {},
   "source": [
    "Convert to RGB"
   ]
  },
  {
   "cell_type": "code",
   "execution_count": 9,
   "id": "6563d56b",
   "metadata": {},
   "outputs": [],
   "source": [
    "image = cv2.cvtColor(hsv_img, cv2.COLOR_HSV2RGB)"
   ]
  },
  {
   "cell_type": "markdown",
   "id": "07fda058",
   "metadata": {},
   "source": [
    "Display the equalized Image"
   ]
  },
  {
   "cell_type": "code",
   "execution_count": 10,
   "id": "a323e8c7",
   "metadata": {},
   "outputs": [],
   "source": [
    "cv2.imshow('Equalised Image!', image)\n",
    "cv2.waitKey(0)\n",
    "cv2.destroyAllWindows()"
   ]
  },
  {
   "cell_type": "code",
   "execution_count": 9,
   "id": "eb179df6",
   "metadata": {},
   "outputs": [],
   "source": [
    "\n"
   ]
  },
  {
   "cell_type": "code",
   "execution_count": null,
   "id": "ae3ae08f",
   "metadata": {},
   "outputs": [],
   "source": []
  },
  {
   "cell_type": "code",
   "execution_count": null,
   "id": "8db6815d",
   "metadata": {},
   "outputs": [],
   "source": []
  },
  {
   "cell_type": "code",
   "execution_count": null,
   "id": "18a1d20c",
   "metadata": {},
   "outputs": [],
   "source": []
  }
 ],
 "metadata": {
  "kernelspec": {
   "display_name": "Python 3 (ipykernel)",
   "language": "python",
   "name": "python3"
  },
  "language_info": {
   "codemirror_mode": {
    "name": "ipython",
    "version": 3
   },
   "file_extension": ".py",
   "mimetype": "text/x-python",
   "name": "python",
   "nbconvert_exporter": "python",
   "pygments_lexer": "ipython3",
   "version": "3.10.7"
  }
 },
 "nbformat": 4,
 "nbformat_minor": 5
}
